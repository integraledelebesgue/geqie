{
 "cells": [
  {
   "cell_type": "markdown",
   "metadata": {},
   "source": [
    "# Experimental pipeline for GEQIE"
   ]
  },
  {
   "cell_type": "markdown",
   "metadata": {},
   "source": [
    "## Setup"
   ]
  },
  {
   "cell_type": "markdown",
   "metadata": {},
   "source": [
    "### Imports"
   ]
  },
  {
   "cell_type": "code",
   "execution_count": 6,
   "metadata": {},
   "outputs": [],
   "source": [
    "import json\n",
    "import subprocess\n",
    "import tempfile\n",
    "\n",
    "import pandas as pd\n",
    "\n",
    "from concurrent import futures\n",
    "from pathlib import Path\n",
    "from typing import Any, Dict"
   ]
  },
  {
   "cell_type": "code",
   "execution_count": 7,
   "metadata": {},
   "outputs": [
    {
     "name": "stdout",
     "output_type": "stream",
     "text": [
      "The ipyform extension is already loaded. To reload it, use:\n",
      "  %reload_ext ipyform\n"
     ]
    }
   ],
   "source": [
    "%load_ext ipyform\n",
    "%form_config --auto-detect 1"
   ]
  },
  {
   "cell_type": "markdown",
   "metadata": {},
   "source": [
    "### Configurations"
   ]
  },
  {
   "cell_type": "code",
   "execution_count": 22,
   "metadata": {},
   "outputs": [
    {
     "data": {
      "application/vnd.jupyter.widget-view+json": {
       "model_id": "d6b68ef201ae4afba1bcd5d6a4f72c04",
       "version_major": 2,
       "version_minor": 0
      },
      "text/plain": [
       "FormWidget(children=(VBox(children=(HTML(value=''), HTML(value='<h4>Input and output paths</h4>'), Box(childre…"
      ]
     },
     "execution_count": 22,
     "metadata": {},
     "output_type": "execute_result"
    }
   ],
   "source": [
    "# @markdown #### Input and output paths\n",
    "input_path = \"../assets/test_images/grayscale\" # @param {type:\"string\"}\n",
    "output_path = \"../.outputs\"                    # @param {type:\"string\"}\n",
    "\n",
    "\n",
    "# @markdown #### Encoding \n",
    "encoding_method = \"frqi\"           # @param {type:\"string\"}\n",
    "grayscale = True                   # @param {type:\"boolean\"}\n",
    "n_shots = 1024                     # @param {type:\"integer\"}\n",
    "return_padded_counts = True        # @param {type:\"boolean\"}\n",
    "\n",
    "# @markdown #### Concurrency config\n",
    "max_concurrency = None             # @param {type:\"integer\"}\n",
    "# @markdown **NOTE:** Type `None` for default value of `max_concurrency` (number of all available system CPUs)\n",
    "\n",
    "input_path = Path(input_path)"
   ]
  },
  {
   "cell_type": "markdown",
   "metadata": {},
   "source": [
    "### Processing functions"
   ]
  },
  {
   "cell_type": "code",
   "execution_count": 33,
   "metadata": {},
   "outputs": [],
   "source": [
    "def process_file(\n",
    "        input_path: Path, \n",
    "        encoding_method: str, \n",
    "        n_shots: int, \n",
    "        grayscale: bool,\n",
    "        return_padded_counts: bool,\n",
    "        workdir: str,\n",
    ") -> Dict[str, Any]:\n",
    "    with tempfile.TemporaryFile(dir=workdir, prefix=f\"{input_path.name}.\", suffix=\".json\", mode=\"w\", delete=False) as output_file:\n",
    "        process_result = subprocess.run(\n",
    "            f\"geqie simulate \\\n",
    "                --encoding {encoding_method} \\\n",
    "                --image-path {input_path} \\\n",
    "                --n-shots {n_shots} \\\n",
    "                --return-padded-counts {return_padded_counts} \\\n",
    "                --grayscale {grayscale} \\\n",
    "                --output-path {output_file.name} \\\n",
    "            \".replace(\"  \", \"\"),\n",
    "        )\n",
    "\n",
    "    if process_result.returncode:\n",
    "        raise RuntimeError(process_result.stderr.decode(\"utf-8\"))\n",
    "\n",
    "    result = json.loads(Path(output_file.name).read_text())\n",
    "\n",
    "    return pd.DataFrame([{\"name\": \".\".join(output_file.name.split(\".\")[:2]), \"result\": result}])\n",
    "\n",
    "\n",
    "def process_directory(\n",
    "        input_path: Path, \n",
    "        encoding_method: str, \n",
    "        n_shots: int, \n",
    "        grayscale: bool,\n",
    "        return_padded_counts: bool, \n",
    "        workdir: str,\n",
    ") -> Dict[str, Any]:\n",
    "    workdir_path = Path(workdir)\n",
    "    input_files = input_path.glob(\"*\")\n",
    "\n",
    "    with futures.ThreadPoolExecutor() as executor:\n",
    "        execute_futures = [\n",
    "            executor.submit(\n",
    "                process_file,\n",
    "                input_file_path,\n",
    "                encoding_method,\n",
    "                n_shots,\n",
    "                grayscale,\n",
    "                return_padded_counts,\n",
    "                workdir,\n",
    "            ) for input_file_path in input_files\n",
    "        ]\n",
    "\n",
    "    for f in execute_futures:\n",
    "        f.result()\n",
    "\n",
    "    dfs = []\n",
    "    for temp_file_path in workdir_path.glob(\"*\"):\n",
    "        result = json.loads(temp_file_path.read_text())\n",
    "        dfs.append(pd.DataFrame(\n",
    "            [{\"name\": \".\".join(temp_file_path.name.split(\".\")[:2]), \"result\": result}]\n",
    "        ))\n",
    "    \n",
    "    return pd.concat(dfs)\n"
   ]
  },
  {
   "cell_type": "markdown",
   "metadata": {},
   "source": [
    "### Run"
   ]
  },
  {
   "cell_type": "code",
   "execution_count": 34,
   "metadata": {},
   "outputs": [
    {
     "name": "stdout",
     "output_type": "stream",
     "text": [
      "                  name                                             result\n",
      "0       full_white.png  {'000': 0, '001': 248, '010': 0, '011': 264, '...\n",
      "0         test_2x4.png  {'00000': 0, '00001': 71, '00010': 0, '00011':...\n",
      "0    test_flag_4x4.png  {'00000': 0, '00001': 65, '00010': 0, '00011':...\n",
      "0       test_image.png  {'000': 0, '001': 256, '010': 28, '011': 217, ...\n",
      "0   test_image0xf0.png  {'000': 146, '001': 119, '010': 136, '011': 11...\n",
      "0  test_image_1010.png  {'000': 0, '001': 260, '010': 67, '011': 184, ...\n",
      "0   test_image_4x4.png  {'00000': 0, '00001': 55, '00010': 65, '00011'...\n"
     ]
    }
   ],
   "source": [
    "def run():\n",
    "    with tempfile.TemporaryDirectory() as workdir:\n",
    "        if input_path.is_file():\n",
    "            df = process_file(\n",
    "                input_path=input_path,\n",
    "                encoding_method=encoding_method,\n",
    "                n_shots=n_shots,\n",
    "                return_padded_counts=return_padded_counts,\n",
    "                grayscale=grayscale,\n",
    "                workdir=workdir,\n",
    "            )\n",
    "        if input_path.is_dir():\n",
    "            df = process_directory(\n",
    "                input_path=input_path,\n",
    "                encoding_method=encoding_method,\n",
    "                n_shots=n_shots,\n",
    "                return_padded_counts=return_padded_counts,\n",
    "                grayscale=grayscale,\n",
    "                workdir=workdir,\n",
    "            )\n",
    "\n",
    "    print(df)\n",
    "\n",
    "run()"
   ]
  },
  {
   "cell_type": "code",
   "execution_count": null,
   "metadata": {},
   "outputs": [],
   "source": []
  }
 ],
 "metadata": {
  "kernelspec": {
   "display_name": ".venv",
   "language": "python",
   "name": "python3"
  },
  "language_info": {
   "codemirror_mode": {
    "name": "ipython",
    "version": 3
   },
   "file_extension": ".py",
   "mimetype": "text/x-python",
   "name": "python",
   "nbconvert_exporter": "python",
   "pygments_lexer": "ipython3",
   "version": "3.11.11"
  }
 },
 "nbformat": 4,
 "nbformat_minor": 2
}

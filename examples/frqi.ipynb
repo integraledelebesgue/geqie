{
 "cells": [
  {
   "cell_type": "markdown",
   "metadata": {},
   "source": [
    "# GEQIE FRQI Example"
   ]
  },
  {
   "cell_type": "markdown",
   "metadata": {},
   "source": [
    "This is the example notebook that presents how to use GEQIE framework for encoding an image into its quantum representation using FRQI method [(Le et al., 2011)](https://link.springer.com/article/10.1007/s11128-010-0177-y). "
   ]
  },
  {
   "cell_type": "markdown",
   "metadata": {},
   "source": [
    "## Setup"
   ]
  },
  {
   "cell_type": "markdown",
   "metadata": {},
   "source": [
    "### Package installation"
   ]
  },
  {
   "cell_type": "code",
   "execution_count": null,
   "metadata": {},
   "outputs": [],
   "source": [
    "! pip install .."
   ]
  },
  {
   "cell_type": "markdown",
   "metadata": {},
   "source": [
    "### Imports"
   ]
  },
  {
   "cell_type": "code",
   "execution_count": 9,
   "metadata": {},
   "outputs": [],
   "source": [
    "import numpy as np\n",
    "from PIL import Image, ImageOps\n",
    "\n",
    "import matplotlib.pyplot as plt\n",
    "import seaborn as sns"
   ]
  },
  {
   "cell_type": "code",
   "execution_count": 10,
   "metadata": {},
   "outputs": [],
   "source": [
    "import geqie\n",
    "from geqie.encodings import frqi"
   ]
  },
  {
   "cell_type": "markdown",
   "metadata": {},
   "source": [
    "## Encoding"
   ]
  },
  {
   "cell_type": "markdown",
   "metadata": {},
   "source": [
    "### Opening the image"
   ]
  },
  {
   "cell_type": "markdown",
   "metadata": {},
   "source": [
    "Opening the test image and normalizing its pixel values to $[0.0, 1.0]$."
   ]
  },
  {
   "cell_type": "code",
   "execution_count": 11,
   "metadata": {},
   "outputs": [
    {
     "data": {
      "text/plain": [
       "array([[1.        , 0.        , 1.        , 0.49803922],\n",
       "       [1.        , 0.        , 0.        , 1.        ],\n",
       "       [0.76470588, 1.        , 1.        , 1.        ],\n",
       "       [1.        , 0.76470588, 0.        , 1.        ]])"
      ]
     },
     "execution_count": 11,
     "metadata": {},
     "output_type": "execute_result"
    }
   ],
   "source": [
    "image = Image.open(\"../assets/test_image_4x4.png\")\n",
    "image = ImageOps.grayscale(image)\n",
    "image = np.asarray(image) / 255.0\n",
    "image"
   ]
  },
  {
   "cell_type": "code",
   "execution_count": 12,
   "metadata": {},
   "outputs": [
    {
     "data": {
      "text/plain": [
       "<Axes: >"
      ]
     },
     "execution_count": 12,
     "metadata": {},
     "output_type": "execute_result"
    },
    {
     "data": {
      "image/png": "[encoded data removed]",
      "text/plain": [
       "<Figure size 640x480 with 2 Axes>"
      ]
     },
     "metadata": {},
     "output_type": "display_data"
    }
   ],
   "source": [
    "sns.heatmap(image, square=True, cmap=\"gray\")"
   ]
  },
  {
   "cell_type": "markdown",
   "metadata": {},
   "source": [
    "### Encoding using unitary gate"
   ]
  },
  {
   "cell_type": "code",
   "execution_count": 5,
   "metadata": {},
   "outputs": [
    {
     "data": {
      "text/html": [
       "<pre style=\"word-wrap: normal;white-space: pre;background: #fff0;line-height: 1.1;font-family: &quot;Courier New&quot;,Courier,monospace\">        »\n",
       "   q_0: »\n",
       "        »\n",
       "   q_1: »\n",
       "        »\n",
       "   q_2: »\n",
       "        »\n",
       "   q_3: »\n",
       "        »\n",
       "   q_4: »\n",
       "        »\n",
       "meas: 5/»\n",
       "        »\n",
       "«        ┌──────────────────────────────────────────────────────────────────────────────────────────────────────────────────────────────┐»\n",
       "«   q_0: ┤0                                                                                                                             ├»\n",
       "«        │                                                                                                                              │»\n",
       "«   q_1: ┤1                                                                                                                             ├»\n",
       "«        │                                                                                                                              │»\n",
       "«   q_2: ┤2 Initialize(0.25,0,0.25,0,0.25,0,0.25,0,0.25,0,0.25,0,0.25,0,0.25,0,0.25,0,0.25,0,0.25,0,0.25,0,0.25,0,0.25,0,0.25,0,0.25,0) ├»\n",
       "«        │                                                                                                                              │»\n",
       "«   q_3: ┤3                                                                                                                             ├»\n",
       "«        │                                                                                                                              │»\n",
       "«   q_4: ┤4                                                                                                                             ├»\n",
       "«        └──────────────────────────────────────────────────────────────────────────────────────────────────────────────────────────────┘»\n",
       "«meas: 5/════════════════════════════════════════════════════════════════════════════════════════════════════════════════════════════════»\n",
       "«                                                                                                                                        »\n",
       "«        ┌──────────┐ ░ ┌─┐            \n",
       "«   q_0: ┤0         ├─░─┤M├────────────\n",
       "«        │          │ ░ └╥┘┌─┐         \n",
       "«   q_1: ┤1         ├─░──╫─┤M├─────────\n",
       "«        │          │ ░  ║ └╥┘┌─┐      \n",
       "«   q_2: ┤2 Unitary ├─░──╫──╫─┤M├──────\n",
       "«        │          │ ░  ║  ║ └╥┘┌─┐   \n",
       "«   q_3: ┤3         ├─░──╫──╫──╫─┤M├───\n",
       "«        │          │ ░  ║  ║  ║ └╥┘┌─┐\n",
       "«   q_4: ┤4         ├─░──╫──╫──╫──╫─┤M├\n",
       "«        └──────────┘ ░  ║  ║  ║  ║ └╥┘\n",
       "«meas: 5/════════════════╩══╩══╩══╩══╩═\n",
       "«                        0  1  2  3  4 </pre>"
      ],
      "text/plain": [
       "        »\n",
       "   q_0: »\n",
       "        »\n",
       "   q_1: »\n",
       "        »\n",
       "   q_2: »\n",
       "        »\n",
       "   q_3: »\n",
       "        »\n",
       "   q_4: »\n",
       "        »\n",
       "meas: 5/»\n",
       "        »\n",
       "«        ┌──────────────────────────────────────────────────────────────────────────────────────────────────────────────────────────────┐»\n",
       "«   q_0: ┤0                                                                                                                             ├»\n",
       "«        │                                                                                                                              │»\n",
       "«   q_1: ┤1                                                                                                                             ├»\n",
       "«        │                                                                                                                              │»\n",
       "«   q_2: ┤2 Initialize(0.25,0,0.25,0,0.25,0,0.25,0,0.25,0,0.25,0,0.25,0,0.25,0,0.25,0,0.25,0,0.25,0,0.25,0,0.25,0,0.25,0,0.25,0,0.25,0) ├»\n",
       "«        │                                                                                                                              │»\n",
       "«   q_3: ┤3                                                                                                                             ├»\n",
       "«        │                                                                                                                              │»\n",
       "«   q_4: ┤4                                                                                                                             ├»\n",
       "«        └──────────────────────────────────────────────────────────────────────────────────────────────────────────────────────────────┘»\n",
       "«meas: 5/════════════════════════════════════════════════════════════════════════════════════════════════════════════════════════════════»\n",
       "«                                                                                                                                        »\n",
       "«        ┌──────────┐ ░ ┌─┐            \n",
       "«   q_0: ┤0         ├─░─┤M├────────────\n",
       "«        │          │ ░ └╥┘┌─┐         \n",
       "«   q_1: ┤1         ├─░──╫─┤M├─────────\n",
       "«        │          │ ░  ║ └╥┘┌─┐      \n",
       "«   q_2: ┤2 Unitary ├─░──╫──╫─┤M├──────\n",
       "«        │          │ ░  ║  ║ └╥┘┌─┐   \n",
       "«   q_3: ┤3         ├─░──╫──╫──╫─┤M├───\n",
       "«        │          │ ░  ║  ║  ║ └╥┘┌─┐\n",
       "«   q_4: ┤4         ├─░──╫──╫──╫──╫─┤M├\n",
       "«        └──────────┘ ░  ║  ║  ║  ║ └╥┘\n",
       "«meas: 5/════════════════╩══╩══╩══╩══╩═\n",
       "«                        0  1  2  3  4 "
      ]
     },
     "execution_count": 5,
     "metadata": {},
     "output_type": "execute_result"
    }
   ],
   "source": [
    "circuit = geqie.encode(frqi.init_function, frqi.data_function, frqi.map_function, image)\n",
    "circuit.draw(output='text')"
   ]
  },
  {
   "cell_type": "code",
   "execution_count": 13,
   "metadata": {},
   "outputs": [
    {
     "data": {
      "text/html": [
       "<pre style=\"word-wrap: normal;white-space: pre;background: #fff0;line-height: 1.1;font-family: &quot;Courier New&quot;,Courier,monospace\">        »\n",
       "   q_0: »\n",
       "        »\n",
       "   q_1: »\n",
       "        »\n",
       "   q_2: »\n",
       "        »\n",
       "   q_3: »\n",
       "        »\n",
       "   q_4: »\n",
       "        »\n",
       "meas: 5/»\n",
       "        »\n",
       "«        ┌──────────────────────────────────────────────────────────────────────────────────────────────────────────────────────────────┐»\n",
       "«   q_0: ┤0                                                                                                                             ├»\n",
       "«        │                                                                                                                              │»\n",
       "«   q_1: ┤1                                                                                                                             ├»\n",
       "«        │                                                                                                                              │»\n",
       "«   q_2: ┤2 Initialize(0.25,0,0.25,0,0.25,0,0.25,0,0.25,0,0.25,0,0.25,0,0.25,0,0.25,0,0.25,0,0.25,0,0.25,0,0.25,0,0.25,0,0.25,0,0.25,0) ├»\n",
       "«        │                                                                                                                              │»\n",
       "«   q_3: ┤3                                                                                                                             ├»\n",
       "«        │                                                                                                                              │»\n",
       "«   q_4: ┤4                                                                                                                             ├»\n",
       "«        └──────────────────────────────────────────────────────────────────────────────────────────────────────────────────────────────┘»\n",
       "«meas: 5/════════════════════════════════════════════════════════════════════════════════════════════════════════════════════════════════»\n",
       "«                                                                                                                                        »\n",
       "«        ┌──────────┐ ░ ┌─┐            \n",
       "«   q_0: ┤0         ├─░─┤M├────────────\n",
       "«        │          │ ░ └╥┘┌─┐         \n",
       "«   q_1: ┤1         ├─░──╫─┤M├─────────\n",
       "«        │          │ ░  ║ └╥┘┌─┐      \n",
       "«   q_2: ┤2 Unitary ├─░──╫──╫─┤M├──────\n",
       "«        │          │ ░  ║  ║ └╥┘┌─┐   \n",
       "«   q_3: ┤3         ├─░──╫──╫──╫─┤M├───\n",
       "«        │          │ ░  ║  ║  ║ └╥┘┌─┐\n",
       "«   q_4: ┤4         ├─░──╫──╫──╫──╫─┤M├\n",
       "«        └──────────┘ ░  ║  ║  ║  ║ └╥┘\n",
       "«meas: 5/════════════════╩══╩══╩══╩══╩═\n",
       "«                        0  1  2  3  4 </pre>"
      ],
      "text/plain": [
       "        »\n",
       "   q_0: »\n",
       "        »\n",
       "   q_1: »\n",
       "        »\n",
       "   q_2: »\n",
       "        »\n",
       "   q_3: »\n",
       "        »\n",
       "   q_4: »\n",
       "        »\n",
       "meas: 5/»\n",
       "        »\n",
       "«        ┌──────────────────────────────────────────────────────────────────────────────────────────────────────────────────────────────┐»\n",
       "«   q_0: ┤0                                                                                                                             ├»\n",
       "«        │                                                                                                                              │»\n",
       "«   q_1: ┤1                                                                                                                             ├»\n",
       "«        │                                                                                                                              │»\n",
       "«   q_2: ┤2 Initialize(0.25,0,0.25,0,0.25,0,0.25,0,0.25,0,0.25,0,0.25,0,0.25,0,0.25,0,0.25,0,0.25,0,0.25,0,0.25,0,0.25,0,0.25,0,0.25,0) ├»\n",
       "«        │                                                                                                                              │»\n",
       "«   q_3: ┤3                                                                                                                             ├»\n",
       "«        │                                                                                                                              │»\n",
       "«   q_4: ┤4                                                                                                                             ├»\n",
       "«        └──────────────────────────────────────────────────────────────────────────────────────────────────────────────────────────────┘»\n",
       "«meas: 5/════════════════════════════════════════════════════════════════════════════════════════════════════════════════════════════════»\n",
       "«                                                                                                                                        »\n",
       "«        ┌──────────┐ ░ ┌─┐            \n",
       "«   q_0: ┤0         ├─░─┤M├────────────\n",
       "«        │          │ ░ └╥┘┌─┐         \n",
       "«   q_1: ┤1         ├─░──╫─┤M├─────────\n",
       "«        │          │ ░  ║ └╥┘┌─┐      \n",
       "«   q_2: ┤2 Unitary ├─░──╫──╫─┤M├──────\n",
       "«        │          │ ░  ║  ║ └╥┘┌─┐   \n",
       "«   q_3: ┤3         ├─░──╫──╫──╫─┤M├───\n",
       "«        │          │ ░  ║  ║  ║ └╥┘┌─┐\n",
       "«   q_4: ┤4         ├─░──╫──╫──╫──╫─┤M├\n",
       "«        └──────────┘ ░  ║  ║  ║  ║ └╥┘\n",
       "«meas: 5/════════════════╩══╩══╩══╩══╩═\n",
       "«                        0  1  2  3  4 "
      ]
     },
     "execution_count": 13,
     "metadata": {},
     "output_type": "execute_result"
    }
   ],
   "source": [
    "circuit = geqie.encode(frqi.init_function, frqi.data_function, frqi.map_function, image)\n",
    "circuit.draw(output='text')"
   ]
  },
  {
   "cell_type": "markdown",
   "metadata": {},
   "source": [
    "### Simulating the circuit"
   ]
  },
  {
   "cell_type": "markdown",
   "metadata": {},
   "source": [
    "The stemplot represents the number of results for each possible quantum state of the system with decimal basis where, e.g., $\\ket{13} \\equiv \\ket{01101}$."
   ]
  },
  {
   "cell_type": "code",
   "execution_count": 14,
   "metadata": {},
   "outputs": [
    {
     "data": {
      "text/plain": [
       "Text(0, 0.5, 'n_results')"
      ]
     },
     "execution_count": 14,
     "metadata": {},
     "output_type": "execute_result"
    },
    {
     "data": {
      "image/png": "[encoded data removed]",
      "text/plain": [
       "<Figure size 640x480 with 1 Axes>"
      ]
     },
     "metadata": {},
     "output_type": "display_data"
    }
   ],
   "source": [
    "result = geqie.simulate(circuit, 1024)\n",
    "plt.stem(result.values())\n",
    "plt.xlabel(\"state\")\n",
    "plt.ylabel(\"n_results\")"
   ]
  },
  {
   "cell_type": "markdown",
   "metadata": {},
   "source": [
    "## Retrieving the image"
   ]
  },
  {
   "cell_type": "markdown",
   "metadata": {},
   "source": [
    "The color is encoded by the last qubit $c$, hence to retrieve the image one has to calculate the average number of resulting $c = \\ket{1}$ for each pixel."
   ]
  },
  {
   "cell_type": "code",
   "execution_count": 15,
   "metadata": {},
   "outputs": [
    {
     "name": "stdout",
     "output_type": "stream",
     "text": [
      "ones=array([[58.,  0., 52., 31.],\n",
      "       [61.,  0.,  0., 59.],\n",
      "       [44., 67., 66., 82.],\n",
      "       [68., 60.,  0., 77.]])\n",
      "total=array([[58., 61., 52., 74.],\n",
      "       [61., 60., 68., 59.],\n",
      "       [51., 67., 66., 82.],\n",
      "       [68., 67., 53., 77.]])\n"
     ]
    }
   ],
   "source": [
    "ones = np.zeros_like(image)\n",
    "total = np.zeros_like(image)\n",
    "\n",
    "for state, n in result.items():\n",
    "    b = state[:-1]\n",
    "    c = state[-1]\n",
    "\n",
    "    m = int(b, base=2)\n",
    "    total.flat[m] += n\n",
    "    if c == \"1\":\n",
    "        ones.flat[m] += n\n",
    "\n",
    "print(f\"{ones=}\")\n",
    "print(f\"{total=}\")"
   ]
  },
  {
   "cell_type": "code",
   "execution_count": 16,
   "metadata": {},
   "outputs": [
    {
     "data": {
      "text/plain": [
       "array([[1.        , 0.        , 1.        , 0.41891892],\n",
       "       [1.        , 0.        , 0.        , 1.        ],\n",
       "       [0.8627451 , 1.        , 1.        , 1.        ],\n",
       "       [1.        , 0.89552239, 0.        , 1.        ]])"
      ]
     },
     "execution_count": 16,
     "metadata": {},
     "output_type": "execute_result"
    }
   ],
   "source": [
    "reconstructed = ones / total\n",
    "reconstructed"
   ]
  },
  {
   "cell_type": "markdown",
   "metadata": {},
   "source": [
    "### Reconstructed image"
   ]
  },
  {
   "cell_type": "code",
   "execution_count": 17,
   "metadata": {},
   "outputs": [
    {
     "data": {
      "text/plain": [
       "<Axes: title={'center': 'original'}>"
      ]
     },
     "execution_count": 17,
     "metadata": {},
     "output_type": "execute_result"
    },
    {
     "data": {
      "image/png": "[encoded data removed]",
      "text/plain": [
       "<Figure size 640x480 with 2 Axes>"
      ]
     },
     "metadata": {},
     "output_type": "display_data"
    }
   ],
   "source": [
    "f = plt.figure()\n",
    "gs = f.add_gridspec(1, 2)\n",
    "\n",
    "ax = f.add_subplot(gs[0, 0])\n",
    "ax.set_title(\"reconstructed\")\n",
    "sns.heatmap(reconstructed, square=True, cmap=\"gray\", cbar=False)\n",
    "\n",
    "ax = f.add_subplot(gs[0, 1])\n",
    "ax.set_title(\"original\")\n",
    "sns.heatmap(image, square=True, cmap=\"gray\", cbar=False)\n"
   ]
  },
  {
   "cell_type": "code",
   "execution_count": null,
   "metadata": {},
   "outputs": [],
   "source": []
  }
 ],
 "metadata": {
  "kernelspec": {
   "display_name": "geqie",
   "language": "python",
   "name": "python3"
  },
  "language_info": {
   "codemirror_mode": {
    "name": "ipython",
    "version": 3
   },
   "file_extension": ".py",
   "mimetype": "text/x-python",
   "name": "python",
   "nbconvert_exporter": "python",
   "pygments_lexer": "ipython3",
   "version": "3.11.7"
  }
 },
 "nbformat": 4,
 "nbformat_minor": 2
}

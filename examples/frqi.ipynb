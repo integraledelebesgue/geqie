{
 "cells": [
  {
   "cell_type": "markdown",
   "metadata": {},
   "source": [
    "# GEQIE FRQI Example"
   ]
  },
  {
   "cell_type": "markdown",
   "metadata": {},
   "source": [
    "This is the example notebook that presents how to use GEQIE framework for encoding an image into its quantum representation using FRQI method [(Le et al., 2011)](https://link.springer.com/article/10.1007/s11128-010-0177-y). "
   ]
  },
  {
   "cell_type": "markdown",
   "metadata": {},
   "source": [
    "## Setup"
   ]
  },
  {
   "cell_type": "markdown",
   "metadata": {},
   "source": [
<<<<<<< HEAD
    "### Package installation"
   ]
  },
  {
   "cell_type": "code",
   "execution_count": null,
   "metadata": {},
   "outputs": [],
   "source": [
    "! pip install -r \"requirements/requirements.in\"\n",
    "! pip install -e ..  # geqie"
   ]
  },
  {
   "cell_type": "markdown",
   "metadata": {},
   "source": [
=======
>>>>>>> test
    "### Imports"
   ]
  },
  {
   "cell_type": "code",
<<<<<<< HEAD
   "execution_count": 9,
=======
   "execution_count": 11,
>>>>>>> test
   "metadata": {},
   "outputs": [],
   "source": [
    "import numpy as np\n",
    "from PIL import Image, ImageOps\n",
    "\n",
    "import matplotlib.pyplot as plt\n",
    "import seaborn as sns "
   ]
  },
  {
   "cell_type": "code",
   "execution_count": 10,
   "metadata": {},
   "outputs": [],
   "source": [
    "import geqie\n",
    "from geqie.encodings import frqi"
   ]
  },
  {
   "cell_type": "markdown",
   "metadata": {},
   "source": [
    "## Encoding"
   ]
  },
  {
   "cell_type": "markdown",
   "metadata": {},
   "source": [
    "### Opening the image"
   ]
  },
  {
   "cell_type": "markdown",
   "metadata": {},
   "source": [
    "Opening the test image and normalizing its pixel values to $[0.0, 1.0]$."
   ]
  },
  {
   "cell_type": "code",
   "execution_count": 12,
   "metadata": {},
   "outputs": [
    {
     "data": {
      "text/plain": [
       "array([[1.        , 0.        , 1.        , 0.49803922],\n",
       "       [1.        , 0.        , 0.        , 1.        ],\n",
       "       [0.76470588, 1.        , 1.        , 1.        ],\n",
       "       [1.        , 0.76470588, 0.        , 1.        ]])"
      ]
     },
     "execution_count": 12,
     "metadata": {},
     "output_type": "execute_result"
    }
   ],
   "source": [
    "image = Image.open(\"../assets/test_image_4x4.png\")\n",
    "image = ImageOps.grayscale(image)\n",
    "image = np.asarray(image) / 255.0\n",
    "image"
   ]
  },
  {
   "cell_type": "code",
   "execution_count": 13,
   "metadata": {},
   "outputs": [
    {
     "data": {
      "text/plain": [
       "<Axes: >"
      ]
     },
     "execution_count": 13,
     "metadata": {},
     "output_type": "execute_result"
    },
    {
     "data": {
      "image/png": "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",
      "text/plain": [
       "<Figure size 640x480 with 2 Axes>"
      ]
     },
     "metadata": {},
     "output_type": "display_data"
    }
   ],
   "source": [
    "sns.heatmap(image, square=True, cmap=\"gray\")"
   ]
  },
  {
   "cell_type": "markdown",
   "metadata": {},
   "source": [
    "### Encoding using unitary gate"
   ]
  },
  {
   "cell_type": "code",
   "execution_count": 14,
   "metadata": {},
   "outputs": [
    {
     "data": {
      "text/html": [
       "<pre style=\"word-wrap: normal;white-space: pre;background: #fff0;line-height: 1.1;font-family: &quot;Courier New&quot;,Courier,monospace\">        »\n",
       "   q_0: »\n",
       "        »\n",
       "   q_1: »\n",
       "        »\n",
       "   q_2: »\n",
       "        »\n",
       "   q_3: »\n",
       "        »\n",
       "   q_4: »\n",
       "        »\n",
       "meas: 5/»\n",
       "        »\n",
       "«        ┌──────────────────────────────────────────────────────────────────────────────────────────────────────────────────────────────┐»\n",
       "«   q_0: ┤0                                                                                                                             ├»\n",
       "«        │                                                                                                                              │»\n",
       "«   q_1: ┤1                                                                                                                             ├»\n",
       "«        │                                                                                                                              │»\n",
       "«   q_2: ┤2 Initialize(0.25,0,0.25,0,0.25,0,0.25,0,0.25,0,0.25,0,0.25,0,0.25,0,0.25,0,0.25,0,0.25,0,0.25,0,0.25,0,0.25,0,0.25,0,0.25,0) ├»\n",
       "«        │                                                                                                                              │»\n",
       "«   q_3: ┤3                                                                                                                             ├»\n",
       "«        │                                                                                                                              │»\n",
       "«   q_4: ┤4                                                                                                                             ├»\n",
       "«        └──────────────────────────────────────────────────────────────────────────────────────────────────────────────────────────────┘»\n",
       "«meas: 5/════════════════════════════════════════════════════════════════════════════════════════════════════════════════════════════════»\n",
       "«                                                                                                                                        »\n",
       "«        ┌──────────┐ ░ ┌─┐            \n",
       "«   q_0: ┤0         ├─░─┤M├────────────\n",
       "«        │          │ ░ └╥┘┌─┐         \n",
       "«   q_1: ┤1         ├─░──╫─┤M├─────────\n",
       "«        │          │ ░  ║ └╥┘┌─┐      \n",
       "«   q_2: ┤2 Unitary ├─░──╫──╫─┤M├──────\n",
       "«        │          │ ░  ║  ║ └╥┘┌─┐   \n",
       "«   q_3: ┤3         ├─░──╫──╫──╫─┤M├───\n",
       "«        │          │ ░  ║  ║  ║ └╥┘┌─┐\n",
       "«   q_4: ┤4         ├─░──╫──╫──╫──╫─┤M├\n",
       "«        └──────────┘ ░  ║  ║  ║  ║ └╥┘\n",
       "«meas: 5/════════════════╩══╩══╩══╩══╩═\n",
       "«                        0  1  2  3  4 </pre>"
      ],
      "text/plain": [
       "        »\n",
       "   q_0: »\n",
       "        »\n",
       "   q_1: »\n",
       "        »\n",
       "   q_2: »\n",
       "        »\n",
       "   q_3: »\n",
       "        »\n",
       "   q_4: »\n",
       "        »\n",
       "meas: 5/»\n",
       "        »\n",
       "«        ┌──────────────────────────────────────────────────────────────────────────────────────────────────────────────────────────────┐»\n",
       "«   q_0: ┤0                                                                                                                             ├»\n",
       "«        │                                                                                                                              │»\n",
       "«   q_1: ┤1                                                                                                                             ├»\n",
       "«        │                                                                                                                              │»\n",
       "«   q_2: ┤2 Initialize(0.25,0,0.25,0,0.25,0,0.25,0,0.25,0,0.25,0,0.25,0,0.25,0,0.25,0,0.25,0,0.25,0,0.25,0,0.25,0,0.25,0,0.25,0,0.25,0) ├»\n",
       "«        │                                                                                                                              │»\n",
       "«   q_3: ┤3                                                                                                                             ├»\n",
       "«        │                                                                                                                              │»\n",
       "«   q_4: ┤4                                                                                                                             ├»\n",
       "«        └──────────────────────────────────────────────────────────────────────────────────────────────────────────────────────────────┘»\n",
       "«meas: 5/════════════════════════════════════════════════════════════════════════════════════════════════════════════════════════════════»\n",
       "«                                                                                                                                        »\n",
       "«        ┌──────────┐ ░ ┌─┐            \n",
       "«   q_0: ┤0         ├─░─┤M├────────────\n",
       "«        │          │ ░ └╥┘┌─┐         \n",
       "«   q_1: ┤1         ├─░──╫─┤M├─────────\n",
       "«        │          │ ░  ║ └╥┘┌─┐      \n",
       "«   q_2: ┤2 Unitary ├─░──╫──╫─┤M├──────\n",
       "«        │          │ ░  ║  ║ └╥┘┌─┐   \n",
       "«   q_3: ┤3         ├─░──╫──╫──╫─┤M├───\n",
       "«        │          │ ░  ║  ║  ║ └╥┘┌─┐\n",
       "«   q_4: ┤4         ├─░──╫──╫──╫──╫─┤M├\n",
       "«        └──────────┘ ░  ║  ║  ║  ║ └╥┘\n",
       "«meas: 5/════════════════╩══╩══╩══╩══╩═\n",
       "«                        0  1  2  3  4 "
      ]
     },
     "execution_count": 14,
     "metadata": {},
     "output_type": "execute_result"
    }
   ],
   "source": [
    "circuit = geqie.encode(frqi.init_function, frqi.data_function, frqi.map_function, image)\n",
    "circuit.draw(output='text')"
   ]
  },
  {
   "cell_type": "markdown",
   "metadata": {},
   "source": [
    "### Simulating the circuit"
   ]
  },
  {
   "cell_type": "markdown",
   "metadata": {},
   "source": [
    "The stemplot represents the number of results for each possible quantum state of the system with decimal basis where, e.g., $\\ket{13} \\equiv \\ket{01101}$."
   ]
  },
  {
   "cell_type": "code",
   "execution_count": 15,
   "metadata": {},
   "outputs": [
    {
     "data": {
      "text/plain": [
       "Text(0, 0.5, 'n_results')"
      ]
     },
     "execution_count": 15,
     "metadata": {},
     "output_type": "execute_result"
    },
    {
     "data": {
      "image/png": "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",
      "text/plain": [
       "<Figure size 640x480 with 1 Axes>"
      ]
     },
     "metadata": {},
     "output_type": "display_data"
    }
   ],
   "source": [
    "result = geqie.simulate(circuit, 1024)\n",
    "plt.stem(result.values())\n",
    "plt.xlabel(\"state\")\n",
    "plt.ylabel(\"n_results\")"
   ]
  },
  {
   "cell_type": "markdown",
   "metadata": {},
   "source": [
    "## Retrieving the image"
   ]
  },
  {
   "cell_type": "markdown",
   "metadata": {},
   "source": [
    "The color is encoded by the last qubit $c$, hence to retrieve the image one has to calculate the average number of resulting $c = \\ket{1}$ for each pixel."
   ]
  },
  {
   "cell_type": "code",
   "execution_count": 16,
   "metadata": {},
   "outputs": [
    {
     "name": "stdout",
     "output_type": "stream",
     "text": [
      "ones=array([[61.,  0., 73., 24.],\n",
      "       [57.,  0.,  0., 59.],\n",
      "       [58., 55., 60., 74.],\n",
      "       [57., 58.,  0., 58.]])\n",
      "total=array([[61., 59., 73., 51.],\n",
      "       [57., 75., 74., 59.],\n",
      "       [74., 55., 60., 74.],\n",
      "       [57., 64., 73., 58.]])\n"
     ]
    }
   ],
   "source": [
    "ones = np.zeros_like(image)\n",
    "total = np.zeros_like(image)\n",
    "\n",
    "for state, n in result.items():\n",
    "    b = state[:-1]\n",
    "    c = state[-1]\n",
    "\n",
    "    m = int(b, base=2)\n",
    "    total.flat[m] += n\n",
    "    if c == \"1\":\n",
    "        ones.flat[m] += n\n",
    "\n",
    "print(f\"{ones=}\")\n",
    "print(f\"{total=}\")"
   ]
  },
  {
   "cell_type": "code",
   "execution_count": 17,
   "metadata": {},
   "outputs": [
    {
     "data": {
      "text/plain": [
       "array([[1.        , 0.        , 1.        , 0.47058824],\n",
       "       [1.        , 0.        , 0.        , 1.        ],\n",
       "       [0.78378378, 1.        , 1.        , 1.        ],\n",
       "       [1.        , 0.90625   , 0.        , 1.        ]])"
      ]
     },
     "execution_count": 17,
     "metadata": {},
     "output_type": "execute_result"
    }
   ],
   "source": [
    "reconstructed = ones / total\n",
    "reconstructed"
   ]
  },
  {
   "cell_type": "markdown",
   "metadata": {},
   "source": [
    "### Reconstructed image"
   ]
  },
  {
   "cell_type": "code",
   "execution_count": 18,
   "metadata": {},
   "outputs": [
    {
     "data": {
      "text/plain": [
       "<Axes: title={'center': 'original'}>"
      ]
     },
     "execution_count": 18,
     "metadata": {},
     "output_type": "execute_result"
    },
    {
     "data": {
      "image/png": "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",
      "text/plain": [
       "<Figure size 640x480 with 2 Axes>"
      ]
     },
     "metadata": {},
     "output_type": "display_data"
    }
   ],
   "source": [
    "f = plt.figure()\n",
    "gs = f.add_gridspec(1, 2)\n",
    "\n",
    "ax = f.add_subplot(gs[0, 0])\n",
    "ax.set_title(\"reconstructed\")\n",
    "sns.heatmap(reconstructed, square=True, cmap=\"gray\", cbar=False)\n",
    "\n",
    "ax = f.add_subplot(gs[0, 1])\n",
    "ax.set_title(\"original\")\n",
    "sns.heatmap(image, square=True, cmap=\"gray\", cbar=False)\n"
   ]
  },
  {
   "cell_type": "code",
   "execution_count": null,
   "metadata": {},
   "outputs": [],
   "source": []
  }
 ],
 "metadata": {
  "kernelspec": {
<<<<<<< HEAD
   "display_name": "qiskit",
=======
   "display_name": "piaskownica",
>>>>>>> test
   "language": "python",
   "name": "piaskownica"
  },
  "language_info": {
   "codemirror_mode": {
    "name": "ipython",
    "version": 3
   },
   "file_extension": ".py",
   "mimetype": "text/x-python",
   "name": "python",
   "nbconvert_exporter": "python",
   "pygments_lexer": "ipython3",
<<<<<<< HEAD
   "version": "3.11.0"
=======
   "version": "3.12.3"
>>>>>>> test
  }
 },
 "nbformat": 4,
 "nbformat_minor": 4
}

{
 "cells": [
  {
   "cell_type": "markdown",
   "metadata": {},
   "source": [
    "# GEQIE FRQI Example"
   ]
  },
  {
   "cell_type": "markdown",
   "metadata": {},
   "source": [
    "## Setup"
   ]
  },
  {
   "cell_type": "markdown",
   "metadata": {},
   "source": [
    "### Adding framework to Python path"
   ]
  },
  {
   "cell_type": "code",
   "execution_count": 1,
   "metadata": {},
   "outputs": [],
   "source": [
    "import os\n",
    "import sys\n",
    "module_path = os.path.abspath(os.path.join('..'))\n",
    "if module_path not in sys.path:\n",
    "    sys.path.append(module_path)"
   ]
  },
  {
   "cell_type": "markdown",
   "metadata": {},
   "source": [
    "### Imports"
   ]
  },
  {
   "cell_type": "code",
   "execution_count": 2,
   "metadata": {},
   "outputs": [],
   "source": [
    "import numpy as np\n",
    "from PIL import Image, ImageOps\n",
    "\n",
    "import matplotlib.pyplot as plt\n",
    "import seaborn as sns\n",
    "\n",
    "from qiskit.quantum_info import Statevector\n",
    "\n",
    "import src.main as main\n",
    "from src.encodings.frqi import data_function, init_function, map_function"
   ]
  },
  {
   "cell_type": "markdown",
   "metadata": {},
   "source": [
    "## Encoding"
   ]
  },
  {
   "cell_type": "code",
   "execution_count": 3,
   "metadata": {},
   "outputs": [
    {
     "data": {
      "text/plain": [
       "array([[1.        , 0.        , 1.        , 0.49803922],\n",
       "       [1.        , 0.        , 0.        , 1.        ],\n",
       "       [0.76470588, 1.        , 1.        , 1.        ],\n",
       "       [1.        , 0.76470588, 0.        , 1.        ]])"
      ]
     },
     "execution_count": 3,
     "metadata": {},
     "output_type": "execute_result"
    }
   ],
   "source": [
    "image = Image.open(\"../test_4x4.png\")\n",
    "image = ImageOps.grayscale(image)\n",
    "image = np.asarray(image) / 255.0\n",
    "image"
   ]
  },
  {
   "cell_type": "code",
   "execution_count": 4,
   "metadata": {},
   "outputs": [
    {
     "name": "stdout",
     "output_type": "stream",
     "text": [
      "        »\n",
      "   q_0: »\n",
      "        »\n",
      "   q_1: »\n",
      "        »\n",
      "   q_2: »\n",
      "        »\n",
      "   q_3: »\n",
      "        »\n",
      "   q_4: »\n",
      "        »\n",
      "meas: 5/»\n",
      "        »\n",
      "«        ┌──────────────────────────────────────────────────────────────────────────────────────────────────────────────────────────────┐»\n",
      "«   q_0: ┤0                                                                                                                             ├»\n",
      "«        │                                                                                                                              │»\n",
      "«   q_1: ┤1                                                                                                                             ├»\n",
      "«        │                                                                                                                              │»\n",
      "«   q_2: ┤2 Initialize(0.25,0,0.25,0,0.25,0,0.25,0,0.25,0,0.25,0,0.25,0,0.25,0,0.25,0,0.25,0,0.25,0,0.25,0,0.25,0,0.25,0,0.25,0,0.25,0) ├»\n",
      "«        │                                                                                                                              │»\n",
      "«   q_3: ┤3                                                                                                                             ├»\n",
      "«        │                                                                                                                              │»\n",
      "«   q_4: ┤4                                                                                                                             ├»\n",
      "«        └──────────────────────────────────────────────────────────────────────────────────────────────────────────────────────────────┘»\n",
      "«meas: 5/════════════════════════════════════════════════════════════════════════════════════════════════════════════════════════════════»\n",
      "«                                                                                                                                        »\n",
      "«        ┌──────────┐ ░ ┌─┐            \n",
      "«   q_0: ┤0         ├─░─┤M├────────────\n",
      "«        │          │ ░ └╥┘┌─┐         \n",
      "«   q_1: ┤1         ├─░──╫─┤M├─────────\n",
      "«        │          │ ░  ║ └╥┘┌─┐      \n",
      "«   q_2: ┤2 Unitary ├─░──╫──╫─┤M├──────\n",
      "«        │          │ ░  ║  ║ └╥┘┌─┐   \n",
      "«   q_3: ┤3         ├─░──╫──╫──╫─┤M├───\n",
      "«        │          │ ░  ║  ║  ║ └╥┘┌─┐\n",
      "«   q_4: ┤4         ├─░──╫──╫──╫──╫─┤M├\n",
      "«        └──────────┘ ░  ║  ║  ║  ║ └╥┘\n",
      "«meas: 5/════════════════╩══╩══╩══╩══╩═\n",
      "«                        0  1  2  3  4 \n"
     ]
    },
    {
     "data": {
      "text/html": [
       "<pre style=\"word-wrap: normal;white-space: pre;background: #fff0;line-height: 1.1;font-family: &quot;Courier New&quot;,Courier,monospace\">        »\n",
       "   q_0: »\n",
       "        »\n",
       "   q_1: »\n",
       "        »\n",
       "   q_2: »\n",
       "        »\n",
       "   q_3: »\n",
       "        »\n",
       "   q_4: »\n",
       "        »\n",
       "meas: 5/»\n",
       "        »\n",
       "«        ┌──────────────────────────────────────────────────────────────────────────────────────────────────────────────────────────────┐»\n",
       "«   q_0: ┤0                                                                                                                             ├»\n",
       "«        │                                                                                                                              │»\n",
       "«   q_1: ┤1                                                                                                                             ├»\n",
       "«        │                                                                                                                              │»\n",
       "«   q_2: ┤2 Initialize(0.25,0,0.25,0,0.25,0,0.25,0,0.25,0,0.25,0,0.25,0,0.25,0,0.25,0,0.25,0,0.25,0,0.25,0,0.25,0,0.25,0,0.25,0,0.25,0) ├»\n",
       "«        │                                                                                                                              │»\n",
       "«   q_3: ┤3                                                                                                                             ├»\n",
       "«        │                                                                                                                              │»\n",
       "«   q_4: ┤4                                                                                                                             ├»\n",
       "«        └──────────────────────────────────────────────────────────────────────────────────────────────────────────────────────────────┘»\n",
       "«meas: 5/════════════════════════════════════════════════════════════════════════════════════════════════════════════════════════════════»\n",
       "«                                                                                                                                        »\n",
       "«        ┌──────────┐ ░ ┌─┐            \n",
       "«   q_0: ┤0         ├─░─┤M├────────────\n",
       "«        │          │ ░ └╥┘┌─┐         \n",
       "«   q_1: ┤1         ├─░──╫─┤M├─────────\n",
       "«        │          │ ░  ║ └╥┘┌─┐      \n",
       "«   q_2: ┤2 Unitary ├─░──╫──╫─┤M├──────\n",
       "«        │          │ ░  ║  ║ └╥┘┌─┐   \n",
       "«   q_3: ┤3         ├─░──╫──╫──╫─┤M├───\n",
       "«        │          │ ░  ║  ║  ║ └╥┘┌─┐\n",
       "«   q_4: ┤4         ├─░──╫──╫──╫──╫─┤M├\n",
       "«        └──────────┘ ░  ║  ║  ║  ║ └╥┘\n",
       "«meas: 5/════════════════╩══╩══╩══╩══╩═\n",
       "«                        0  1  2  3  4 </pre>"
      ],
      "text/plain": [
       "        »\n",
       "   q_0: »\n",
       "        »\n",
       "   q_1: »\n",
       "        »\n",
       "   q_2: »\n",
       "        »\n",
       "   q_3: »\n",
       "        »\n",
       "   q_4: »\n",
       "        »\n",
       "meas: 5/»\n",
       "        »\n",
       "«        ┌──────────────────────────────────────────────────────────────────────────────────────────────────────────────────────────────┐»\n",
       "«   q_0: ┤0                                                                                                                             ├»\n",
       "«        │                                                                                                                              │»\n",
       "«   q_1: ┤1                                                                                                                             ├»\n",
       "«        │                                                                                                                              │»\n",
       "«   q_2: ┤2 Initialize(0.25,0,0.25,0,0.25,0,0.25,0,0.25,0,0.25,0,0.25,0,0.25,0,0.25,0,0.25,0,0.25,0,0.25,0,0.25,0,0.25,0,0.25,0,0.25,0) ├»\n",
       "«        │                                                                                                                              │»\n",
       "«   q_3: ┤3                                                                                                                             ├»\n",
       "«        │                                                                                                                              │»\n",
       "«   q_4: ┤4                                                                                                                             ├»\n",
       "«        └──────────────────────────────────────────────────────────────────────────────────────────────────────────────────────────────┘»\n",
       "«meas: 5/════════════════════════════════════════════════════════════════════════════════════════════════════════════════════════════════»\n",
       "«                                                                                                                                        »\n",
       "«        ┌──────────┐ ░ ┌─┐            \n",
       "«   q_0: ┤0         ├─░─┤M├────────────\n",
       "«        │          │ ░ └╥┘┌─┐         \n",
       "«   q_1: ┤1         ├─░──╫─┤M├─────────\n",
       "«        │          │ ░  ║ └╥┘┌─┐      \n",
       "«   q_2: ┤2 Unitary ├─░──╫──╫─┤M├──────\n",
       "«        │          │ ░  ║  ║ └╥┘┌─┐   \n",
       "«   q_3: ┤3         ├─░──╫──╫──╫─┤M├───\n",
       "«        │          │ ░  ║  ║  ║ └╥┘┌─┐\n",
       "«   q_4: ┤4         ├─░──╫──╫──╫──╫─┤M├\n",
       "«        └──────────┘ ░  ║  ║  ║  ║ └╥┘\n",
       "«meas: 5/════════════════╩══╩══╩══╩══╩═\n",
       "«                        0  1  2  3  4 "
      ]
     },
     "execution_count": 4,
     "metadata": {},
     "output_type": "execute_result"
    }
   ],
   "source": [
    "circuit = main.encode(init_function, data_function, map_function, image, {\"verbose\": 0})\n",
    "circuit.draw()"
   ]
  },
  {
   "cell_type": "code",
   "execution_count": 5,
   "metadata": {},
   "outputs": [
    {
     "data": {
      "text/plain": [
       "<StemContainer object of 3 artists>"
      ]
     },
     "execution_count": 5,
     "metadata": {},
     "output_type": "execute_result"
    },
    {
     "data": {
      "image/png": "[encoded data removed]",
      "text/plain": [
       "<Figure size 640x480 with 1 Axes>"
      ]
     },
     "metadata": {},
     "output_type": "display_data"
    }
   ],
   "source": [
    "result = main.simulate(circuit, 1024)\n",
    "plt.stem(result.values())"
   ]
  },
  {
   "cell_type": "code",
   "execution_count": 6,
   "metadata": {},
   "outputs": [
    {
     "name": "stdout",
     "output_type": "stream",
     "text": [
      "[0.        +0.j 0.0625    -0.j 0.0625    +0.j 0.        +0.j\n",
      " 0.        +0.j 0.0625    -0.j 0.0314425 -0.j 0.0310575 -0.j\n",
      " 0.        +0.j 0.0625    -0.j 0.0625    +0.j 0.        +0.j\n",
      " 0.0625    +0.j 0.        +0.j 0.        +0.j 0.0625    -0.j\n",
      " 0.00815597-0.j 0.05434403-0.j 0.        +0.j 0.0625    -0.j\n",
      " 0.        +0.j 0.0625    -0.j 0.        +0.j 0.0625    -0.j\n",
      " 0.        +0.j 0.0625    -0.j 0.00815597-0.j 0.05434403-0.j\n",
      " 0.0625    +0.j 0.        +0.j 0.        +0.j 0.0625    -0.j]\n"
     ]
    }
   ],
   "source": [
    "print(Statevector(circuit.remove_final_measurements(inplace=False)).data**2)"
   ]
  },
  {
   "cell_type": "code",
   "execution_count": 7,
   "metadata": {},
   "outputs": [
    {
     "name": "stdout",
     "output_type": "stream",
     "text": [
      "ones=array([[62.,  0., 64., 41.],\n",
      "       [58.,  0.,  0., 58.],\n",
      "       [52., 70., 74., 67.],\n",
      "       [58., 55.,  0., 68.]])\n",
      "total=array([[62., 65., 64., 74.],\n",
      "       [58., 58., 64., 58.],\n",
      "       [57., 70., 74., 67.],\n",
      "       [58., 61., 66., 68.]])\n"
     ]
    }
   ],
   "source": [
    "ones = np.zeros_like(image)\n",
    "total = np.zeros_like(image)\n",
    "\n",
    "for state, n in result.items():\n",
    "    b = state[:-1]\n",
    "    c = state[-1]\n",
    "\n",
    "    m = int(b, base=2)\n",
    "    total.flat[m] += n\n",
    "    if c == \"1\":\n",
    "        ones.flat[m] += n\n",
    "print(f\"{ones=}\")\n",
    "print(f\"{total=}\")"
   ]
  },
  {
   "cell_type": "code",
   "execution_count": 8,
   "metadata": {},
   "outputs": [
    {
     "data": {
      "text/plain": [
       "array([[1.        , 0.        , 1.        , 0.55405405],\n",
       "       [1.        , 0.        , 0.        , 1.        ],\n",
       "       [0.9122807 , 1.        , 1.        , 1.        ],\n",
       "       [1.        , 0.90163934, 0.        , 1.        ]])"
      ]
     },
     "execution_count": 8,
     "metadata": {},
     "output_type": "execute_result"
    }
   ],
   "source": [
    "reconstructed = ones / total\n",
    "reconstructed"
   ]
  },
  {
   "cell_type": "code",
   "execution_count": 9,
   "metadata": {},
   "outputs": [
    {
     "data": {
      "text/plain": [
       "<Axes: >"
      ]
     },
     "execution_count": 9,
     "metadata": {},
     "output_type": "execute_result"
    },
    {
     "data": {
      "image/png": "[encoded data removed]",
      "text/plain": [
       "<Figure size 640x480 with 2 Axes>"
      ]
     },
     "metadata": {},
     "output_type": "display_data"
    }
   ],
   "source": [
    "sns.heatmap(reconstructed, square=True, cmap=\"gray\")"
   ]
  },
  {
   "cell_type": "code",
   "execution_count": null,
   "metadata": {},
   "outputs": [],
   "source": []
  }
 ],
 "metadata": {
  "kernelspec": {
   "display_name": "geqie",
   "language": "python",
   "name": "python3"
  },
  "language_info": {
   "codemirror_mode": {
    "name": "ipython",
    "version": 3
   },
   "file_extension": ".py",
   "mimetype": "text/x-python",
   "name": "python",
   "nbconvert_exporter": "python",
   "pygments_lexer": "ipython3",
   "version": "3.11.7"
  }
 },
 "nbformat": 4,
 "nbformat_minor": 2
}

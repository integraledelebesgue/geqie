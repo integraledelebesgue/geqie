{
 "cells": [
  {
   "cell_type": "markdown",
   "metadata": {},
   "source": [
    "# GEQIE LPIQE Example"
   ]
  },
  {
   "cell_type": "markdown",
   "metadata": {},
   "source": [
    "## Setup"
   ]
  },
  {
   "cell_type": "markdown",
   "metadata": {},
   "source": [
    "### Imports"
   ]
  },
  {
   "cell_type": "code",
   "execution_count": 947,
   "metadata": {},
   "outputs": [],
   "source": [
    "import numpy as np\n",
    "from PIL import Image, ImageOps\n",
    "\n",
    "import matplotlib.pyplot as plt\n",
    "# import seaborn as sns\n",
    "\n",
    "import geqie\n",
    "from geqie.encodings import lpiqe"
   ]
  },
  {
   "cell_type": "markdown",
   "metadata": {},
   "source": [
    "## Encoding"
   ]
  },
  {
   "cell_type": "markdown",
   "metadata": {},
   "source": [
    "### Opening the image"
   ]
  },
  {
   "cell_type": "markdown",
   "metadata": {},
   "source": [
    "Opening the test image and normalizing its pixel values to $[0.0, 1.0]$."
   ]
  },
  {
   "cell_type": "code",
   "execution_count": 948,
   "metadata": {},
   "outputs": [
    {
     "data": {
      "text/plain": [
       "array([[255, 192],\n",
       "       [128,  64]], dtype=uint8)"
      ]
     },
     "execution_count": 948,
     "metadata": {},
     "output_type": "execute_result"
    }
   ],
   "source": [
    "image = Image.open(\"../assets/test_image.png\")\n",
    "image = ImageOps.grayscale(image)\n",
    "image = np.asarray(image)\n",
    "image"
   ]
  },
  {
   "cell_type": "markdown",
   "metadata": {},
   "source": [
    "### Encoding using unitary gate"
   ]
  },
  {
   "cell_type": "code",
   "execution_count": 949,
   "metadata": {},
   "outputs": [
    {
     "data": {
      "text/plain": [
       "<qiskit.circuit.instructionset.InstructionSet at 0x291241662f0>"
      ]
     },
     "execution_count": 949,
     "metadata": {},
     "output_type": "execute_result"
    }
   ],
   "source": [
    "circuit = geqie.encode(lpiqe.init_function, lpiqe.data_function, lpiqe.map_function, image)\n",
    "circuit.h(2)"
   ]
  },
  {
   "cell_type": "code",
   "execution_count": 950,
   "metadata": {},
   "outputs": [
    {
     "data": {
      "image/png": "[encoded data removed]",
      "text/plain": [
       "<Figure size 1249.28x367.889 with 1 Axes>"
      ]
     },
     "execution_count": 950,
     "metadata": {},
     "output_type": "execute_result"
    }
   ],
   "source": [
    "circuit.measure_all()\n",
    "circuit.draw(output='mpl')"
   ]
  },
  {
   "cell_type": "markdown",
   "metadata": {},
   "source": [
    "### Simulating the circuit"
   ]
  },
  {
   "cell_type": "code",
   "execution_count": 951,
   "metadata": {},
   "outputs": [
    {
     "data": {
      "text/plain": [
       "{'000': 6314,\n",
       " '001': 6146,\n",
       " '010': 6374,\n",
       " '011': 6261,\n",
       " '100': 6327,\n",
       " '101': 6198,\n",
       " '110': 6248,\n",
       " '111': 6132}"
      ]
     },
     "execution_count": 951,
     "metadata": {},
     "output_type": "execute_result"
    }
   ],
   "source": [
    "\n",
    "shoots = 50000\n",
    "counts = geqie.simulate(circuit, shoots)\n",
    "counts = {key: counts[key] for key in sorted(counts)}\n",
    "counts"
   ]
  },
  {
   "cell_type": "markdown",
   "metadata": {},
   "source": [
    "## Interpretation of the results"
   ]
  },
  {
   "cell_type": "markdown",
   "metadata": {},
   "source": [
    "Image is represented as:\n",
    "$$I_m=\\begin{bmatrix}\n",
    "p_{00} & p_{01} \\\\\n",
    "p_{10} & p_{11} \\\\\n",
    "\\end{bmatrix}$$\n",
    "\n",
    "and we encode it as:\n",
    "$$L(I_m)=\\begin{bmatrix}\n",
    "e^{ip_0} & & & \\\\\n",
    "& e^{ip_1} & & \\\\\n",
    "& & e^{ip_2} & \\\\\n",
    "& & & e^{ip_3}\n",
    "\\end{bmatrix}$$\n",
    "\n",
    "<img src=\".LPIQE_drawIO.png\" width=\"800\">\n",
    "\n",
    "Number of qubits equalls to $q = log_2(W)+log_2(H)+1$.\n",
    "Last qubit is always ancilla (blue color).\n",
    "\n",
    "Procedure of gates combination:\n",
    "1. Put Hadamard gates on all qubits.\n",
    "2. Place Local Phase Operator and join it with identity gate: $\\ket{Unitary\\_operator}\\bra{Unitary\\_operator} \\otimes I$.\n",
    "3. Place Hadamard gate on last qubit.\n",
    "4. Measure qubits.\n",
    "\n",
    "Reconstructed pixel formula:\n",
    "$$p_k=arccos\\left(\\frac{2^{length+1}* counts(p_k)}{2} - 1\\right)$$\n",
    "\n"
   ]
  },
  {
   "cell_type": "code",
   "execution_count": 952,
   "metadata": {},
   "outputs": [
    {
     "name": "stdout",
     "output_type": "stream",
     "text": [
      "\n",
      "Original image:\n",
      "[[255 192]\n",
      " [128  64]]\n",
      "Retrived image:\n",
      "[[1.55847602 1.53898389]\n",
      " [1.5217459  1.50607342]]\n"
     ]
    }
   ],
   "source": [
    "repr_range = (.2*np.pi, 0.395*np.pi)\n",
    "img = np.zeros((2, 2)).astype(float)\n",
    "\n",
    "for result in sorted(counts.keys()):\n",
    "    length = len(result)\n",
    "    if result[length-1] == '0':\n",
    "        \n",
    "        p0 = counts[result] / shoots\n",
    "        xx = result[0:1]       \n",
    "        yy = result[1:2]\n",
    "        \n",
    "        u = int(yy, 2)\n",
    "        v = int(xx, 2)\n",
    "\n",
    "\n",
    "        x = (2 ** (length+1) / 2) * p0 - 1 # 2**length - normalization factor\n",
    "        if x < -1:\n",
    "            print(\n",
    "                \"The cos(p), p-experimentally determined probability for eigen state |\" + result +\n",
    "                '> which maps pixel [' +\n",
    "                str(u) + ', ' + str(v) + '] is below -1.\\n cos(p) changed to -1 to be able to compute arc cos!')\n",
    "            x = -1\n",
    "\n",
    "        if x > 1:\n",
    "            print(\n",
    "                \"The cos(p), p-experimentally determined probability for eigen state |\" + result +\n",
    "                '> which maps pixel [' +\n",
    "                str(u) + ', ' + str(v) + '] is over 1.\\n cos(p) changed to 1 to be able to compute arc cos!')\n",
    "            x = 1\n",
    "\n",
    "        img[v, u] = np.arccos(x)\n",
    "        rl = repr_range[1] - repr_range[0]  # the representation range length\n",
    "        img[u, v] = img[u, v] / rl - repr_range[0] / rl  # inverse of mapping to representation range\n",
    "        # if print_results:\n",
    "        #     print('p(|' + result + '>)=' + str(p0), 'x=' + str(x),\n",
    "        #             '(' + str(u) + ',' + str(v) + ')=' + str(img[u, v]))\n",
    "reconstructedImage = np.flipud(img)\n",
    "reconstructedImage\n",
    "\n",
    "\n",
    "print('\\nOriginal image:')\n",
    "print(image)\n",
    "print('Retrived image:')\n",
    "print(f\"{reconstructedImage}\")\n"
   ]
  },
  {
   "cell_type": "markdown",
   "metadata": {},
   "source": [
    "### Retrived image"
   ]
  },
  {
   "cell_type": "code",
   "execution_count": 953,
   "metadata": {},
   "outputs": [
    {
     "data": {
      "text/plain": [
       "<matplotlib.image.AxesImage at 0x29124796050>"
      ]
     },
     "execution_count": 953,
     "metadata": {},
     "output_type": "execute_result"
    },
    {
     "data": {
      "image/png": "[encoded data removed]",
      "text/plain": [
       "<Figure size 640x480 with 2 Axes>"
      ]
     },
     "metadata": {},
     "output_type": "display_data"
    }
   ],
   "source": [
    "f = plt.figure()\n",
    "gs = f.add_gridspec(1, 2)\n",
    "\n",
    "ax = f.add_subplot(gs[0, 0])\n",
    "ax.set_title(\"original\")\n",
    "ax.imshow(image, cmap='gray')\n",
    "\n",
    "ax = f.add_subplot(gs[0, 1])\n",
    "ax.set_title(\"reconstructed\")\n",
    "ax.imshow(reconstructedImage, cmap='gray')\n"
   ]
  }
 ],
 "metadata": {
  "kernelspec": {
   "display_name": ".venv",
   "language": "python",
   "name": "python3"
  },
  "language_info": {
   "codemirror_mode": {
    "name": "ipython",
    "version": 3
   },
   "file_extension": ".py",
   "mimetype": "text/x-python",
   "name": "python",
   "nbconvert_exporter": "python",
   "pygments_lexer": "ipython3",
   "version": "3.11.5"
  }
 },
 "nbformat": 4,
 "nbformat_minor": 4
}
